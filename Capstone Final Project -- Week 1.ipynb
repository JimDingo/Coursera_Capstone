{
    "cells": [
        {
            "cell_type": "markdown",
            "metadata": {
                "collapsed": true
            },
            "source": "<h1><center> Capstone Final Project -- Week 1</center></h1>"
        },
        {
            "cell_type": "markdown",
            "metadata": {},
            "source": "---"
        },
        {
            "cell_type": "markdown",
            "metadata": {},
            "source": "## Introduction/Business Problem"
        },
        {
            "cell_type": "markdown",
            "metadata": {},
            "source": "With the advent of the Covid-19 pandemic, restaurants face increasing challenges with business closures, employee lay-offs and, upon re-opening, maintaining profitability while conforming to public health, social distancing requirements.  To mitigate the loss of revenue, some establishments are trying to promote out-of-home sales, enabled by online delivery companies such as GrubHub, Uber Eats, etc. The challenge for restaurants however is maintaining profitability when the online delivery companies can charge up to 30% commission on each order.  See [LA Times article](https://www.latimes.com/food/story/2020-05-16/food-delivery-app-commissions-ubereats-grubhub-doordash)\n\nSuccessful restaurants in a post-Covid-19 world will need to find more customers with more income and locate closer to them to enable more direct order pickup without reliance on 3rd party delivery companies.\n\nThis analysis intends to provide a framework for restaurateurs and new restaurant investors to identify zip codes in Chicago, Illinois that balance density of population and average income against the number of existing restaurant competitors in order to choose the most promising locations for new or re-located restaurants."
        },
        {
            "cell_type": "markdown",
            "metadata": {},
            "source": "## Data"
        },
        {
            "cell_type": "markdown",
            "metadata": {},
            "source": "This analysis will use the Foursquare Places API as well as publicly available data to rank Chicago zip codes by population density, average income, and the number of competing restaurants.  The following data sets will be used:\n1. [US Zip Codes with Latitude and Longitude](https://public.opendatasoft.com/explore/dataset/us-zip-code-latitude-and-longitude/table/)  This national data set supplies zip codes with geospatial coordinates.  Latitude and Longitude from Chicago zip codes, beginning with \"606\", will be extracted to form the foundation of later API calls, using FourSquare.\n2. [Population by US Zip Code](https://www.kaggle.com/census/us-population-by-zip-code?select=population_by_zip_2010.csv) This is a Kaggle data set that shows population by zip code\n3. [Income by US Zip Code](https://www.irs.gov/statistics/soi-tax-stats-individual-income-tax-statistics-2017-zip-code-data-soi)  This is a large data set from the IRS, from which median income  by zip code can be extracted.\n4. [The FourSquare Places API](https://developer.foursquare.com/places)  Foursquare data will be used to specify the number of restaurant venues by zip code.\n\nThe approach will be to develop stratified maps showing Chicago zip codes, separated into tiers, based on population density and median income.  Foursquare venue data will then be overlaid to show density of competition by zip code.  The analysis will then rank the type five zip codes for various levels of income and population density, measured against number of competitors to indicate the best location for a new or relocated restaurant in Chicago, Illinois."
        },
        {
            "cell_type": "code",
            "execution_count": null,
            "metadata": {},
            "outputs": [],
            "source": ""
        }
    ],
    "metadata": {
        "kernelspec": {
            "display_name": "Python 3.6",
            "language": "python",
            "name": "python3"
        },
        "language_info": {
            "codemirror_mode": {
                "name": "ipython",
                "version": 3
            },
            "file_extension": ".py",
            "mimetype": "text/x-python",
            "name": "python",
            "nbconvert_exporter": "python",
            "pygments_lexer": "ipython3",
            "version": "3.6.9"
        }
    },
    "nbformat": 4,
    "nbformat_minor": 1
}